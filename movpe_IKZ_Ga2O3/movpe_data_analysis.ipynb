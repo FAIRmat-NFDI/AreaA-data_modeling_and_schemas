{
 "cells": [
  {
   "cell_type": "code",
   "execution_count": null,
   "id": "3b982906-480c-48a0-b259-71abc7a94e36",
   "metadata": {
    "tags": []
   },
   "outputs": [],
   "source": [
    "%pip install jmespath\n",
    "%pip install plotly\n"
   ]
  },
  {
   "cell_type": "code",
   "execution_count": 2,
   "id": "835380fa-ffa9-47b3-b64c-5353a36405cc",
   "metadata": {
    "tags": []
   },
   "outputs": [
    {
     "name": "stdout",
     "output_type": "stream",
     "text": [
      " ········\n"
     ]
    }
   ],
   "source": [
    "import getpass\n",
    "import yaml\n",
    "import json\n",
    "import pandas as pd\n",
    "import jmespath\n",
    "import plotly.express as px\n",
    "import requests\n",
    "import nest_asyncio\n",
    "nest_asyncio.apply()\n",
    "password = getpass.getpass()\n"
   ]
  },
  {
   "cell_type": "code",
   "execution_count": 3,
   "id": "cbe22e4b-37cd-4fc8-a120-13d4e6d278ca",
   "metadata": {
    "tags": []
   },
   "outputs": [],
   "source": [
    "# username = \"brueckner\"\n",
    "username = \"aalbino\"\n",
    "response = requests.get(\n",
    "    \"https://nomad-lab.eu/prod/v1/staging/api/v1/auth/token?username={}&password={}\".format(username, password))\n",
    "# 'https://nomad-lab.eu/prod/api/v1/auth/token', params=dict(username='brueckner', password=password))\n",
    "token = response.json()['access_token']\n"
   ]
  },
  {
   "cell_type": "code",
   "execution_count": 4,
   "id": "00585782-1934-46b8-bd70-c36a569ec402",
   "metadata": {
    "tags": []
   },
   "outputs": [],
   "source": [
    "base_url = \"https://nomad-lab.eu/prod/v1/staging/api/v1\"\n"
   ]
  },
  {
   "cell_type": "code",
   "execution_count": null,
   "id": "79523b59-cb4f-4a4f-9172-7f8059e00ae1",
   "metadata": {
    "tags": []
   },
   "outputs": [],
   "source": [
    "uploadid = \"DdQU68z4R9meWhslkNqOYA\"\n",
    "\n",
    "query = {\n",
    "        'required': {\n",
    "            'metadata': '*', }\n",
    "    }\n",
    "response = requests.get(\n",
    "    f'{base_url}/uploads/{uploadid}/entries',\n",
    "    headers={'Authorization': f'Bearer {token}'}, json=query)\n",
    "my_response = response.json()\n",
    "print(\"In this response there are the following sections:\")\n",
    "for i in my_response:\n",
    "    print(f\"- {i}\")\n",
    "print(\"All the juice is in 'data'\\n\")\n",
    "\n",
    "print('test')\n",
    "print(my_response[\"upload\"])\n",
    "\n",
    "print('test')\n",
    "\n",
    "my_data = response.json()[\"data\"] #[0] # [0][\"entry_id\"]\n",
    "\n",
    "print(response.json()[\"data\"][0])\n",
    "\n",
    "\n",
    "\n",
    "\n",
    "# for i in my_data[0]:\n",
    "#     print(i)\n",
    "\n",
    "\n",
    "# for i in my_data:\n",
    "#     print(i[\"entry_id\"])"
   ]
  }
 ],
 "metadata": {
  "kernelspec": {
   "display_name": "Python 3 (ipykernel)",
   "language": "python",
   "name": "python3"
  },
  "language_info": {
   "codemirror_mode": {
    "name": "ipython",
    "version": 3
   },
   "file_extension": ".py",
   "mimetype": "text/x-python",
   "name": "python",
   "nbconvert_exporter": "python",
   "pygments_lexer": "ipython3",
   "version": "3.10.10"
  }
 },
 "nbformat": 4,
 "nbformat_minor": 5
}
