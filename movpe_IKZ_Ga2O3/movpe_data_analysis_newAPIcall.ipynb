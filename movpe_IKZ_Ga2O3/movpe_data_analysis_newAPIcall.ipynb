{
 "cells": [
  {
   "cell_type": "code",
   "execution_count": null,
   "id": "3b982906-480c-48a0-b259-71abc7a94e36",
   "metadata": {
    "tags": []
   },
   "outputs": [],
   "source": [
    "%pip install jmespath\n",
    "%pip install plotly\n",
    "%pip install pymatgen\n",
    "%pip install MDAnalysis\n",
    "%pip install structlog\n",
    "%pip install nomad-lab  --index-url https://gitlab.mpcdf.mpg.de/api/v4/projects/2187/packages/pypi/simple"
   ]
  },
  {
   "cell_type": "code",
   "execution_count": null,
   "id": "835380fa-ffa9-47b3-b64c-5353a36405cc",
   "metadata": {
    "tags": []
   },
   "outputs": [],
   "source": [
    "from nomad.client import ArchiveQuery\n",
    "import getpass\n",
    "import yaml\n",
    "import json\n",
    "import pandas as pd\n",
    "import jmespath\n",
    "import plotly.express as px\n",
    "import requests\n",
    "import nest_asyncio\n",
    "nest_asyncio.apply()\n",
    "password = getpass.getpass()\n"
   ]
  },
  {
   "cell_type": "code",
   "execution_count": null,
   "id": "cbe22e4b-37cd-4fc8-a120-13d4e6d278ca",
   "metadata": {
    "tags": []
   },
   "outputs": [],
   "source": [
    "# username = \"brueckner\"\n",
    "username = \"aalbino\"\n",
    "base_url = \"https://nomad-lab.eu/prod/v1/staging/api/v1\" # this is for the beta; otherwise default in ArchiveQuery is enough"
   ]
  },
  {
   "cell_type": "code",
   "execution_count": null,
   "id": "00585782-1934-46b8-bd70-c36a569ec402",
   "metadata": {
    "tags": []
   },
   "outputs": [],
   "source": []
  },
  {
   "cell_type": "code",
   "execution_count": null,
   "id": "06484d60",
   "metadata": {},
   "outputs": [],
   "source": [
    "query = {\n",
    "    # \"upload_id\": 'KIoZXiylQXeLqOmRbUZ_CQ',\n",
    "    \"published\": False \n",
    "}\n",
    "# required = {\n",
    "#     'results': 'include-resolved',\n",
    "#     'run': 'include-resolved'\n",
    "# }\n",
    "\n",
    "archives = ArchiveQuery(owner='visible', url=base_url, query=query, username=\"aalbino\", password=password).download()\n",
    "                        # , query=query, required=required, username=\"aalbino\", password=\"DyoDot@93\").download()\n",
    "print(archives)"
   ]
  },
  {
   "cell_type": "code",
   "execution_count": null,
   "id": "a0d75459",
   "metadata": {
    "tags": []
   },
   "outputs": [],
   "source": [
    "\n",
    "query = {\n",
    "    \"results.material.elements:all\": [\n",
    "        \"Si\"\n",
    "    ],\n",
    "    \"results.material.n_elements\": {\n",
    "        \"gte\": 1,\n",
    "        \"lte\": 1\n",
    "    },\n",
    "    \"results.method.simulation.gw.type:any\": [\n",
    "        \"G0W0\"\n",
    "    ],\n",
    "    \"results.method.simulation.gw.starting_point_type:any\": [\n",
    "        \"LDA\"\n",
    "    ],\n",
    "    \"results.properties.available_properties:all\": [\n",
    "        \"dos_electronic\"\n",
    "    ]\n",
    "}\n",
    "required = {\n",
    "    'results': 'include-resolved',\n",
    "    'run': 'include-resolved'\n",
    "}\n",
    "\n",
    "archives = ArchiveQuery(url=base_url, query=query, required=required).download()\n",
    "print(archives)"
   ]
  }
 ],
 "metadata": {
  "kernelspec": {
   "display_name": "Python 3 (ipykernel)",
   "language": "python",
   "name": "python3"
  },
  "language_info": {
   "codemirror_mode": {
    "name": "ipython",
    "version": 3
   },
   "file_extension": ".py",
   "mimetype": "text/x-python",
   "name": "python",
   "nbconvert_exporter": "python",
   "pygments_lexer": "ipython3",
   "version": "3.10.10"
  }
 },
 "nbformat": 4,
 "nbformat_minor": 5
}
