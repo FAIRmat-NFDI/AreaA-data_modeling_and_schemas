{
 "cells": [
  {
   "cell_type": "code",
   "execution_count": 1,
   "id": "a9793fe1",
   "metadata": {},
   "outputs": [],
   "source": [
    "from nomad_helpers import *"
   ]
  },
  {
   "cell_type": "markdown",
   "id": "67103af0",
   "metadata": {},
   "source": [
    "# Instruments"
   ]
  },
  {
   "cell_type": "code",
   "execution_count": 2,
   "id": "5e473e32",
   "metadata": {},
   "outputs": [],
   "source": [
    "schema_name=\"Instruments\"\n",
    "yt=schema_start(schema_name)"
   ]
  },
  {
   "cell_type": "code",
   "execution_count": 3,
   "id": "91f71118",
   "metadata": {},
   "outputs": [],
   "source": [
    "name=\"Oven\"\n",
    "object_type=\"Instrument\"\n",
    "quantity_type_unit_list=[[\"Manufacturer\",\"str\",None],\n",
    "                         [\"Maximal_Temperature\",\"np.float64\",\"degC\"],\n",
    "                         [\"Furnace_Diameter\",\"np.float64\",\"mm\"]]\n",
    "\n",
    "hide_list=['datetime']\n",
    "yt=add_section(yt,name,quantity_type_unit_list,object_type,hide_list)"
   ]
  },
  {
   "cell_type": "code",
   "execution_count": 4,
   "id": "f4321994",
   "metadata": {},
   "outputs": [],
   "source": [
    "name=\"Wire_Saw\"\n",
    "object_type=\"Instrument\"\n",
    "quantity_type_unit_list=[[\"Manufacturer\",\"str\",None],\n",
    "                         [\"Wire_Diameter\",\"np.float64\",\"mm\"]]\n",
    "\n",
    "hide_list=['datetime']\n",
    "yt=add_section(yt,name,quantity_type_unit_list,object_type,hide_list)"
   ]
  },
  {
   "cell_type": "code",
   "execution_count": 5,
   "id": "c87640b1",
   "metadata": {},
   "outputs": [],
   "source": [
    "name=\"SEM\"\n",
    "object_type=\"Instrument\"\n",
    "quantity_type_unit_list=[[\"Manufacturer\",\"str\",None],\n",
    "                         [\"Maximal_Acceleration_Voltage\",\"np.float64\",\"kV\"],\n",
    "                         [\"Detectors\",instrument,None,\"['*']\"]]\n",
    "\n",
    "hide_list=['datetime']\n",
    "yt=add_section(yt,name,quantity_type_unit_list,object_type,hide_list)"
   ]
  },
  {
   "cell_type": "code",
   "execution_count": 6,
   "id": "3814dd16",
   "metadata": {},
   "outputs": [],
   "source": [
    "name=\"Detector\"\n",
    "object_type=\"Instrument\"\n",
    "quantity_type_unit_list=[[\"Manufacturer\",\"str\",None],\n",
    "                         [\"installed_at\",instrument,None]]\n",
    "\n",
    "hide_list=['datetime']\n",
    "yt=add_section(yt,name,quantity_type_unit_list,object_type,hide_list)"
   ]
  },
  {
   "cell_type": "code",
   "execution_count": 7,
   "id": "dc6f0d73",
   "metadata": {},
   "outputs": [],
   "source": [
    "#print(yt)"
   ]
  },
  {
   "cell_type": "code",
   "execution_count": 8,
   "id": "38f5bb5b",
   "metadata": {},
   "outputs": [],
   "source": [
    "save_schema(schema_name,yt)"
   ]
  },
  {
   "cell_type": "markdown",
   "id": "8e29f2a9",
   "metadata": {},
   "source": [
    "# Samples"
   ]
  },
  {
   "cell_type": "code",
   "execution_count": 9,
   "id": "e1d9029c",
   "metadata": {},
   "outputs": [],
   "source": [
    "schema_name=\"Samples\"\n",
    "yt=schema_start(schema_name)"
   ]
  },
  {
   "cell_type": "code",
   "execution_count": 10,
   "id": "09a3e1b0",
   "metadata": {},
   "outputs": [],
   "source": [
    "name=\"Single_Crystal\"\n",
    "object_type=\"CompositeSystem\"\n",
    "quantity_type_unit_list=[[\"Growth_Method\",\"str\",None],\n",
    "                         [\"Growth_Temperature\",\"np.float64\",\"degC\"],\n",
    "                         [\"grown_at\",\"str\",None]]\n",
    "\n",
    "hide_list=['datetime']\n",
    "yt=add_section(yt,name,quantity_type_unit_list,object_type,hide_list)"
   ]
  },
  {
   "cell_type": "code",
   "execution_count": 11,
   "id": "f4dac71a",
   "metadata": {},
   "outputs": [],
   "source": [
    "name=\"Hetero_Epitaxy\"\n",
    "object_type=\"CompositeSystem\"\n",
    "quantity_type_unit_list=[[\"Epitaxial_Orientation\",\"str\",None],\n",
    "                         [\"Miscut\",\"np.float64\",\"deg\"],\n",
    "                         [\"Miscut_Orientation\",\"str\",None],\n",
    "                         [\"Substrate\",sample,None],\n",
    "                         [\"Film\",sample,None],\n",
    "                         [\"Film_Thickness\",\"np.float64\",\"micrometer\"]]\n",
    "\n",
    "hide_list=['datetime']\n",
    "yt=add_section(yt,name,quantity_type_unit_list,object_type,hide_list)"
   ]
  },
  {
   "cell_type": "code",
   "execution_count": 12,
   "id": "7b1c0a81",
   "metadata": {},
   "outputs": [],
   "source": [
    "name=\"Other_Material\"\n",
    "object_type=\"CompositeSystem\"\n",
    "quantity_type_unit_list=[]\n",
    "hide_list=['datetime']\n",
    "yt=add_section(yt,name,quantity_type_unit_list,object_type,hide_list)"
   ]
  },
  {
   "cell_type": "code",
   "execution_count": 13,
   "id": "c6e68ca0",
   "metadata": {},
   "outputs": [],
   "source": [
    "#print(yt)"
   ]
  },
  {
   "cell_type": "code",
   "execution_count": 14,
   "id": "9503343c",
   "metadata": {},
   "outputs": [],
   "source": [
    "save_schema(schema_name,yt)"
   ]
  },
  {
   "cell_type": "markdown",
   "id": "72d7b4c7",
   "metadata": {},
   "source": [
    "# Measurements"
   ]
  },
  {
   "cell_type": "code",
   "execution_count": 15,
   "id": "00615668",
   "metadata": {},
   "outputs": [],
   "source": [
    "schema_name=\"Measurements\"\n",
    "yt=schema_start(schema_name)"
   ]
  },
  {
   "cell_type": "code",
   "execution_count": 16,
   "id": "75300474",
   "metadata": {},
   "outputs": [],
   "source": [
    "name=\"SEM_Measurement\"\n",
    "object_type=\"Measurement\"\n",
    "quantity_type_unit_list=[]\n",
    "hide_list=['datetime']\n",
    "yt=add_section(yt,name,quantity_type_unit_list,object_type,hide_list)"
   ]
  },
  {
   "cell_type": "code",
   "execution_count": 17,
   "id": "aa054039",
   "metadata": {},
   "outputs": [],
   "source": [
    "#print(yt)"
   ]
  },
  {
   "cell_type": "code",
   "execution_count": 18,
   "id": "e453c78b",
   "metadata": {},
   "outputs": [],
   "source": [
    "save_schema(schema_name,yt)"
   ]
  },
  {
   "cell_type": "markdown",
   "id": "b5a5ce1a",
   "metadata": {},
   "source": [
    "# Sample_Processing"
   ]
  },
  {
   "cell_type": "code",
   "execution_count": 19,
   "id": "8e3dc95e",
   "metadata": {},
   "outputs": [],
   "source": [
    "schema_name=\"Sample_Processing\"\n",
    "yt=schema_start(schema_name)"
   ]
  },
  {
   "cell_type": "code",
   "execution_count": 20,
   "id": "19153845",
   "metadata": {},
   "outputs": [],
   "source": [
    "name=\"Annealing\"\n",
    "object_type=\"Process\"\n",
    "quantity_type_unit_list=[[\"Temperature\",\"np.float64\",\"degC\"],\n",
    "                         [\"Duration\",\"np.float64\",\"min\"],\n",
    "                         [\"Path_to_Temperature_Curve\",\"str\",None]]\n",
    "hide_list=['datetime']\n",
    "yt=add_section(yt,name,quantity_type_unit_list,object_type,hide_list)"
   ]
  },
  {
   "cell_type": "code",
   "execution_count": 21,
   "id": "a75c454a",
   "metadata": {},
   "outputs": [],
   "source": [
    "name=\"Cutting\"\n",
    "object_type=\"Process\"\n",
    "quantity_type_unit_list=[]\n",
    "hide_list=['datetime']\n",
    "yt=add_section(yt,name,quantity_type_unit_list,object_type,hide_list)"
   ]
  },
  {
   "cell_type": "code",
   "execution_count": 22,
   "id": "3fb43005",
   "metadata": {},
   "outputs": [],
   "source": [
    "save_schema(schema_name,yt)"
   ]
  },
  {
   "cell_type": "markdown",
   "id": "75afab52",
   "metadata": {},
   "source": [
    "# Data Entries"
   ]
  },
  {
   "cell_type": "code",
   "execution_count": 23,
   "id": "2f123e4d",
   "metadata": {},
   "outputs": [],
   "source": [
    "schema_name=\"Data_Entries\"\n",
    "yt=schema_start(schema_name)"
   ]
  },
  {
   "cell_type": "code",
   "execution_count": 24,
   "id": "c984069b",
   "metadata": {},
   "outputs": [],
   "source": [
    "name=\"SEM_Image\"\n",
    "object_type=\"Measurement\"\n",
    "quantity_type_unit_list=[#[\"Measurement\",\"nomad.datamodel.metainfo.basesections.Measurement\",None],\n",
    "                         [\"Sample\",\"nomad.datamodel.metainfo.basesections.CompositeSystem\",None,\"['*']\"],\n",
    "                         [\"Microscope\",\"nomad.datamodel.metainfo.basesections.Instrument\",None],\n",
    "                         [\"Detector\",\"nomad.datamodel.metainfo.basesections.Instrument\",None],\n",
    "\n",
    "    \n",
    "                         [\"Time_of_Creation\",\"Datetime\",None],\n",
    "                         [\"Path_to_Image\",\"str\",None],\n",
    "                         #[\"Microscope\",\"str\",None], \n",
    "                         \n",
    "     \n",
    "                         [\"Pixel_Width\",\"np.float64\",\"m\"],\n",
    "                         [\"Pixel_Height\",\"np.float64\",\"m\"],  \n",
    "\n",
    "                         \n",
    "                         [\"Acceleration_Voltage\",\"np.float64\",\"V\"],\n",
    "                         [\"Beam Current\",\"np.float64\",\"A\"],\n",
    "                         [\"Working_Distance\",\"np.float64\",\"m\"],\n",
    "                         [\"Dwell_Time\",\"np.float64\",\"s\"],\n",
    "\n",
    "                         [\"SEM_Mode\",\"str\",None],     \n",
    "                         [\"Stage_Tilt_alpha\",\"np.float64\",\"rad\"],\n",
    "                         [\"Tilt_Correction\",\"bool\",None],\n",
    "\n",
    "                         #[\"Detector_Name\",\"str\",None],\n",
    "                         [\"Detector_Mode\",\"str\",None]]\n",
    "                         \n",
    "\n",
    "default_unit_list=[None,None,None,   None,None,    \"nm\",\"nm\",\n",
    "                   \"kV\",\"nA\",\"mm\",\"microsecond\",\n",
    "                   None,\"deg\",None,None]    \n",
    "    \n",
    "hide_list=[\"datetime\",\"lab_id\",\"location\",\"steps\",\"samples\",\"instruments\",\"results\"]\n",
    "yt=add_section(yt,name,quantity_type_unit_list,object_type,hide_list,default_unit_list=default_unit_list)\n",
    "\n",
    "\n",
    "yt +=6*\" \"+\"sub_sections:\\n\"\n",
    "\n",
    "object_type=None\n",
    "name=\"Meta_Data\"\n",
    "\n",
    "qtu=[[\"Spot_Diameter_(estimated)\",\"np.float64\",\"nm\"],\n",
    "     [\"Stigmator_X\",\"np.float64\",None],\n",
    "     [\"Stigmator_Y\",\"np.float64\",None],\n",
    "     [\"Beam_Shift_X\",\"np.float64\",None],\n",
    "     [\"Beam_Shift_Y\",\"np.float64\",None],\n",
    "     [\"Source_Tilt_X\",\"np.float64\",None],\n",
    "     [\"Source_Tilt_Y\",\"np.float64\",None],\n",
    "     [\"Emission_Current\",\"np.float64\",\"A\"],\n",
    "     [\"Specimen_Current\",\"np.float64\",\"A\"],\n",
    "     #[\"Aperture_Diameter\",\"np.float64\",\"m\"],\n",
    "     #[\"A_Tube_Voltage\",\"np.float64\",\"V\"],\n",
    "#Scan\n",
    "     [\"Scan_Rotation\",\"np.float64\",\"rad\"],\n",
    "\n",
    "#CompoundLens\n",
    "     [\"Compound_Lens\",\"bool\",None], #On,Off\n",
    "     [\"Compound_Lens_Threshold_Energy\",\"np.float64\",\"eV\"],\n",
    "#Stage          \n",
    "     [\"Stage_X\",\"np.float64\",\"m\"],\n",
    "     [\"Stage_Y\",\"np.float64\",\"m\"],\n",
    "     [\"Stage_Z\",\"np.float64\",\"m\"],\n",
    "     [\"Stage_Rotation\",\"np.float64\",\"rad\"],\n",
    "     [\"Stage_Tilt_alpha\",\"np.float64\",\"rad\"],\n",
    "     [\"Stage_Tilt_beta\",\"np.float64\",\"rad\"],\n",
    "     [\"Stage_Bias\",\"np.float64\",\"V\"],\n",
    "     [\"Chamber_Pressure\",\"np.float64\",\"Pa\"],\n",
    "\n",
    "#Detecor\n",
    "     [\"Contrast\",\"np.float64\",None],\n",
    "     [\"Brightness\",\"np.float64\",None],\n",
    "     [\"Signal_Type\",\"str\",None],\n",
    "     [\"Contrast_DB\",\"np.float64\",\"dB\"],\n",
    "     [\"Brightness_DB\",\"np.float64\",\"dB\"],\n",
    "     [\"Average\",\"int\",None],\n",
    "     [\"Integrate\",\"int\",None],\n",
    "     [\"Resolution_X\",\"int\",None],\n",
    "     [\"Resolution_Y\",\"int\",None],\n",
    "     [\"Horizontal_Fieldsize\",\"np.float64\",\"m\"],\n",
    "     [\"Vertical_Fieldsize\",\"np.float64\",\"m\"],\n",
    "     [\"Frame_Time\",\"np.float64\",\"s\"],\n",
    "#Digital\n",
    "     [\"Digital_Contrast\",\"np.float64\",None],\n",
    "     [\"Digital_Brightness\",\"np.float64\",None],\n",
    "     [\"Digital_Gamma\",\"np.float64\",None]]\n",
    "\n",
    "yt=add_section(yt,name,qtu,object_type,sub_section=True,indentation_level=4)"
   ]
  },
  {
   "cell_type": "code",
   "execution_count": 25,
   "id": "a1d6c957",
   "metadata": {},
   "outputs": [],
   "source": [
    "#print(yt)"
   ]
  },
  {
   "cell_type": "code",
   "execution_count": 26,
   "id": "37a8128f",
   "metadata": {},
   "outputs": [],
   "source": [
    "save_schema(schema_name,yt)"
   ]
  },
  {
   "cell_type": "code",
   "execution_count": null,
   "id": "5601603f",
   "metadata": {},
   "outputs": [],
   "source": []
  }
 ],
 "metadata": {
  "kernelspec": {
   "display_name": "Python 3 (ipykernel)",
   "language": "python",
   "name": "python3"
  },
  "language_info": {
   "codemirror_mode": {
    "name": "ipython",
    "version": 3
   },
   "file_extension": ".py",
   "mimetype": "text/x-python",
   "name": "python",
   "nbconvert_exporter": "python",
   "pygments_lexer": "ipython3",
   "version": "3.9.12"
  }
 },
 "nbformat": 4,
 "nbformat_minor": 5
}
