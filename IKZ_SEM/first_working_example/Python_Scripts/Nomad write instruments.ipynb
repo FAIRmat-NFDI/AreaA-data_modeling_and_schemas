{
 "cells": [
  {
   "cell_type": "code",
   "execution_count": 1,
   "id": "15515173",
   "metadata": {},
   "outputs": [],
   "source": [
    "from nomad_helpers import *"
   ]
  },
  {
   "cell_type": "markdown",
   "id": "2b02ec81",
   "metadata": {},
   "source": [
    "# Annealing_Oven_PL"
   ]
  },
  {
   "cell_type": "code",
   "execution_count": 2,
   "id": "6f655f67",
   "metadata": {},
   "outputs": [
    {
     "name": "stdout",
     "output_type": "stream",
     "text": [
      "data:\n",
      "  m_def: ../upload/raw/Schemas/Instruments.archive.yaml#Oven\n",
      "\n"
     ]
    }
   ],
   "source": [
    "name=\"Annealing_Oven_PL\"\n",
    "\n",
    "yaml_text=\"\"\n",
    "yt=yaml_text\n",
    "yt += \"data:\\n\"\n",
    "yt += 2*\" \"+\"m_def: \" + \"../upload/raw/Schemas/Instruments.archive.yaml#Oven\"+\"\\n\"\n",
    "print(yt)"
   ]
  },
  {
   "cell_type": "code",
   "execution_count": 3,
   "id": "24bf686d",
   "metadata": {},
   "outputs": [],
   "source": [
    "save_instrument(name,yt)"
   ]
  },
  {
   "cell_type": "markdown",
   "id": "d5c57f69",
   "metadata": {},
   "source": [
    "# Wire Saw"
   ]
  },
  {
   "cell_type": "code",
   "execution_count": 4,
   "id": "81e3cc41",
   "metadata": {},
   "outputs": [
    {
     "name": "stdout",
     "output_type": "stream",
     "text": [
      "data:\n",
      "  m_def: ../upload/raw/Schemas/Instruments.archive.yaml#Wire_Saw\n",
      "\n"
     ]
    }
   ],
   "source": [
    "name=\"Wire_Saw_prepRoom\"\n",
    "\n",
    "yaml_text=\"\"\n",
    "yt=yaml_text\n",
    "yt += \"data:\\n\"\n",
    "yt += 2*\" \"+\"m_def: \" + \"../upload/raw/Schemas/Instruments.archive.yaml#Wire_Saw\"+\"\\n\"\n",
    "print(yt)"
   ]
  },
  {
   "cell_type": "code",
   "execution_count": 5,
   "id": "dec8760b",
   "metadata": {},
   "outputs": [],
   "source": [
    "save_instrument(name,yt)"
   ]
  },
  {
   "cell_type": "markdown",
   "id": "35f3f1b8",
   "metadata": {},
   "source": [
    "# ETD"
   ]
  },
  {
   "cell_type": "code",
   "execution_count": 6,
   "id": "0dc44d42",
   "metadata": {},
   "outputs": [
    {
     "name": "stdout",
     "output_type": "stream",
     "text": [
      "data:\n",
      "  m_def: ../upload/raw/Schemas/Instruments.archive.yaml#Detector\n",
      "  installed_at: ../upload/raw/Instruments/Apreo_SEM.archive.yaml#data\n",
      "  Manufacturer: Thermo Fisher Scientific\n",
      "\n"
     ]
    }
   ],
   "source": [
    "name=\"Apreo_ETD\"\n",
    "\n",
    "yaml_text=\"\"\n",
    "yt=yaml_text\n",
    "yt += \"data:\\n\"\n",
    "yt += 2*\" \"+\"m_def: \" + \"../upload/raw/Schemas/Instruments.archive.yaml#Detector\"+\"\\n\"\n",
    "yt += 2*\" \"+\"installed_at: \"+\"../upload/raw/Instruments/Apreo_SEM.archive.yaml#data\" +\"\\n\"\n",
    "yt += 2*\" \"+\"Manufacturer: \"+\"Thermo Fisher Scientific\" +\"\\n\"\n",
    "print(yt)"
   ]
  },
  {
   "cell_type": "code",
   "execution_count": 7,
   "id": "cae6915d",
   "metadata": {},
   "outputs": [],
   "source": [
    "save_instrument(name,yt)"
   ]
  },
  {
   "cell_type": "markdown",
   "id": "b491c9a6",
   "metadata": {},
   "source": [
    "# T1"
   ]
  },
  {
   "cell_type": "code",
   "execution_count": 8,
   "id": "a984411d",
   "metadata": {},
   "outputs": [
    {
     "name": "stdout",
     "output_type": "stream",
     "text": [
      "data:\n",
      "  m_def: ../upload/raw/Schemas/Instruments.archive.yaml#Detector\n",
      "  installed_at: ../upload/raw/Instruments/Apreo_SEM.archive.yaml#data\n",
      "  Manufacturer: Thermo Fisher Scientific\n",
      "\n"
     ]
    }
   ],
   "source": [
    "name=\"Apreo_T1\"\n",
    "\n",
    "yaml_text=\"\"\n",
    "yt=yaml_text\n",
    "yt += \"data:\\n\"\n",
    "yt += 2*\" \"+\"m_def: \" + \"../upload/raw/Schemas/Instruments.archive.yaml#Detector\"+\"\\n\"\n",
    "yt += 2*\" \"+\"installed_at: \"+\"../upload/raw/Instruments/Apreo_SEM.archive.yaml#data\" +\"\\n\"\n",
    "yt += 2*\" \"+\"Manufacturer: \"+\"Thermo Fisher Scientific\" +\"\\n\"\n",
    "print(yt)"
   ]
  },
  {
   "cell_type": "code",
   "execution_count": 9,
   "id": "55e9f1e4",
   "metadata": {},
   "outputs": [],
   "source": [
    "save_instrument(name,yt)"
   ]
  },
  {
   "cell_type": "markdown",
   "id": "96f8532b",
   "metadata": {},
   "source": [
    "# T2"
   ]
  },
  {
   "cell_type": "code",
   "execution_count": 10,
   "id": "048bdfbf",
   "metadata": {},
   "outputs": [
    {
     "name": "stdout",
     "output_type": "stream",
     "text": [
      "data:\n",
      "  m_def: ../upload/raw/Schemas/Instruments.archive.yaml#Detector\n",
      "  installed_at: ../upload/raw/Instruments/Apreo_SEM.archive.yaml#data\n",
      "  Manufacturer: Thermo Fisher Scientific\n",
      "\n"
     ]
    }
   ],
   "source": [
    "name=\"Apreo_T2\"\n",
    "\n",
    "yaml_text=\"\"\n",
    "yt=yaml_text\n",
    "yt += \"data:\\n\"\n",
    "yt += 2*\" \"+\"m_def: \" + \"../upload/raw/Schemas/Instruments.archive.yaml#Detector\"+\"\\n\"\n",
    "yt += 2*\" \"+\"installed_at: \"+\"../upload/raw/Instruments/Apreo_SEM.archive.yaml#data\" +\"\\n\"\n",
    "yt += 2*\" \"+\"Manufacturer: \"+\"Thermo Fisher Scientific\" +\"\\n\"\n",
    "print(yt)"
   ]
  },
  {
   "cell_type": "code",
   "execution_count": 11,
   "id": "171b220a",
   "metadata": {},
   "outputs": [],
   "source": [
    "save_instrument(name,yt)"
   ]
  },
  {
   "cell_type": "markdown",
   "id": "b083d675",
   "metadata": {},
   "source": [
    "# T3"
   ]
  },
  {
   "cell_type": "code",
   "execution_count": 12,
   "id": "06e715da",
   "metadata": {},
   "outputs": [
    {
     "name": "stdout",
     "output_type": "stream",
     "text": [
      "data:\n",
      "  m_def: ../upload/raw/Schemas/Instruments.archive.yaml#Detector\n",
      "  installed_at: ../upload/raw/Instruments/Apreo_SEM.archive.yaml#data\n",
      "  Manufacturer: Thermo Fisher Scientific\n",
      "\n"
     ]
    }
   ],
   "source": [
    "name=\"Apreo_T3\"\n",
    "\n",
    "yaml_text=\"\"\n",
    "yt=yaml_text\n",
    "yt += \"data:\\n\"\n",
    "yt += 2*\" \"+\"m_def: \" + \"../upload/raw/Schemas/Instruments.archive.yaml#Detector\"+\"\\n\"\n",
    "yt += 2*\" \"+\"installed_at: \"+\"../upload/raw/Instruments/Apreo_SEM.archive.yaml#data\" +\"\\n\"\n",
    "yt += 2*\" \"+\"Manufacturer: \"+\"Thermo Fisher Scientific\" +\"\\n\"\n",
    "print(yt)"
   ]
  },
  {
   "cell_type": "code",
   "execution_count": 13,
   "id": "6080bc21",
   "metadata": {},
   "outputs": [],
   "source": [
    "save_instrument(name,yt)"
   ]
  },
  {
   "cell_type": "markdown",
   "id": "039c4c58",
   "metadata": {},
   "source": [
    "# Monarc"
   ]
  },
  {
   "cell_type": "code",
   "execution_count": 14,
   "id": "87260dde",
   "metadata": {},
   "outputs": [
    {
     "name": "stdout",
     "output_type": "stream",
     "text": [
      "data:\n",
      "  m_def: ../upload/raw/Schemas/Instruments.archive.yaml#Detector\n",
      "  Manufacturer: Gatan\n",
      "  installed_at: ../upload/raw/Instruments/Apreo_SEM.archive.yaml#data\n",
      "\n"
     ]
    }
   ],
   "source": [
    "name=\"Apreo_Monarc_Spectrometer\"\n",
    "\n",
    "yaml_text=\"\"\n",
    "yt=yaml_text\n",
    "yt += \"data:\\n\"\n",
    "yt += 2*\" \"+\"m_def: \" + \"../upload/raw/Schemas/Instruments.archive.yaml#Detector\"+\"\\n\"\n",
    "yt += 2*\" \"+\"Manufacturer: \"+\"Gatan\" +\"\\n\"\n",
    "yt += 2*\" \"+\"installed_at: \"+\"../upload/raw/Instruments/Apreo_SEM.archive.yaml#data\" +\"\\n\"\n",
    "print(yt)"
   ]
  },
  {
   "cell_type": "code",
   "execution_count": 15,
   "id": "02d64a92",
   "metadata": {},
   "outputs": [],
   "source": [
    "save_instrument(name,yt)"
   ]
  },
  {
   "cell_type": "code",
   "execution_count": null,
   "id": "d263fba5",
   "metadata": {},
   "outputs": [],
   "source": []
  },
  {
   "cell_type": "markdown",
   "id": "ada8203e",
   "metadata": {},
   "source": [
    "# Apreo_SEM"
   ]
  },
  {
   "cell_type": "code",
   "execution_count": 16,
   "id": "81cc0352",
   "metadata": {},
   "outputs": [],
   "source": [
    "detectorlist=['../upload/raw/Instruments/Apreo_ETD.archive.yaml#data',\n",
    "             '../upload/raw/Instruments/Apreo_T1.archive.yaml#data',\n",
    "             '../upload/raw/Instruments/Apreo_T2.archive.yaml#data',\n",
    "             '../upload/raw/Instruments/Apreo_T3.archive.yaml#data',\n",
    "             '../upload/raw/Instruments/Apreo_Monarc_Spectrometer.archive.yaml#data']"
   ]
  },
  {
   "cell_type": "code",
   "execution_count": 17,
   "id": "8c65238d",
   "metadata": {},
   "outputs": [
    {
     "name": "stdout",
     "output_type": "stream",
     "text": [
      "data:\n",
      "  m_def: ../upload/raw/Schemas/Instruments.archive.yaml#SEM\n",
      "  Manufacturer: Thermo Fisher Scientific\n",
      "  Detectors: ['../upload/raw/Instruments/Apreo_ETD.archive.yaml#data', '../upload/raw/Instruments/Apreo_T1.archive.yaml#data', '../upload/raw/Instruments/Apreo_T2.archive.yaml#data', '../upload/raw/Instruments/Apreo_T3.archive.yaml#data', '../upload/raw/Instruments/Apreo_Monarc_Spectrometer.archive.yaml#data']\n",
      "\n"
     ]
    }
   ],
   "source": [
    "name=\"Apreo_SEM\"\n",
    "\n",
    "yaml_text=\"\"\n",
    "yt=yaml_text\n",
    "yt += \"data:\\n\"\n",
    "yt += 2*\" \"+\"m_def: \" + \"../upload/raw/Schemas/Instruments.archive.yaml#SEM\"+\"\\n\"\n",
    "yt += 2*\" \"+\"Manufacturer: \"+\"Thermo Fisher Scientific\" +\"\\n\"\n",
    "yt += 2*\" \"+\"Detectors: \"+str(detectorlist)+\"\\n\"\n",
    "print(yt)"
   ]
  },
  {
   "cell_type": "code",
   "execution_count": 18,
   "id": "7d1e2505",
   "metadata": {},
   "outputs": [],
   "source": [
    "save_instrument(name,yt)"
   ]
  },
  {
   "cell_type": "code",
   "execution_count": null,
   "id": "1b5dfac0",
   "metadata": {},
   "outputs": [],
   "source": []
  }
 ],
 "metadata": {
  "kernelspec": {
   "display_name": "Python 3 (ipykernel)",
   "language": "python",
   "name": "python3"
  },
  "language_info": {
   "codemirror_mode": {
    "name": "ipython",
    "version": 3
   },
   "file_extension": ".py",
   "mimetype": "text/x-python",
   "name": "python",
   "nbconvert_exporter": "python",
   "pygments_lexer": "ipython3",
   "version": "3.9.12"
  }
 },
 "nbformat": 4,
 "nbformat_minor": 5
}
