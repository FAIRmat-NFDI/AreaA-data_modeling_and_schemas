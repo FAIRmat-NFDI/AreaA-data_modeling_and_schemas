{
 "cells": [
  {
   "cell_type": "code",
   "execution_count": 1,
   "id": "ae0f292f",
   "metadata": {},
   "outputs": [],
   "source": [
    "from nomad_helpers import *"
   ]
  },
  {
   "cell_type": "code",
   "execution_count": 2,
   "id": "82f6d5a8",
   "metadata": {},
   "outputs": [],
   "source": [
    "filepath=\"X:/Anlagen/_diag-cl2/Private/SEM-Data/Robert/test/image3.tif\"  # my local image"
   ]
  },
  {
   "cell_type": "code",
   "execution_count": 3,
   "id": "0a79d98b",
   "metadata": {},
   "outputs": [],
   "source": [
    "schemafilepath=\"../Schemas/Data_Entries.archive.yaml\""
   ]
  },
  {
   "cell_type": "code",
   "execution_count": 4,
   "id": "75731dcf",
   "metadata": {},
   "outputs": [],
   "source": [
    "nomad_sample_paths=\"Samples/Ammono_GaN.archive.yaml\""
   ]
  },
  {
   "cell_type": "code",
   "execution_count": 5,
   "id": "c787ecf9",
   "metadata": {},
   "outputs": [],
   "source": [
    "create_data_json(filepath,schemafilepath,\"example_image\",nomad_sample_paths=nomad_sample_paths)"
   ]
  },
  {
   "cell_type": "code",
   "execution_count": null,
   "id": "cf848509",
   "metadata": {},
   "outputs": [],
   "source": []
  }
 ],
 "metadata": {
  "kernelspec": {
   "display_name": "Python 3 (ipykernel)",
   "language": "python",
   "name": "python3"
  },
  "language_info": {
   "codemirror_mode": {
    "name": "ipython",
    "version": 3
   },
   "file_extension": ".py",
   "mimetype": "text/x-python",
   "name": "python",
   "nbconvert_exporter": "python",
   "pygments_lexer": "ipython3",
   "version": "3.9.12"
  }
 },
 "nbformat": 4,
 "nbformat_minor": 5
}
