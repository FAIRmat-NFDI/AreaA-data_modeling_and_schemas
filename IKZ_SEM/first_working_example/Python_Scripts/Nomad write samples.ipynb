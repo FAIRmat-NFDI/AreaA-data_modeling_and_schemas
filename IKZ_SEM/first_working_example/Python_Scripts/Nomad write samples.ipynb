{
 "cells": [
  {
   "cell_type": "code",
   "execution_count": 1,
   "id": "f5e18d8f",
   "metadata": {},
   "outputs": [],
   "source": [
    "from nomad_helpers import *"
   ]
  },
  {
   "cell_type": "code",
   "execution_count": 2,
   "id": "3fe651c1",
   "metadata": {},
   "outputs": [
    {
     "data": {
      "text/plain": [
       "{'Single_Crystal': {'quantities': ['Growth_Method',\n",
       "   'Growth_Temperature',\n",
       "   'grown_at'],\n",
       "  'sub_sections': {}},\n",
       " 'Hetero_Epitaxy': {'quantities': ['Epitaxial_Orientation',\n",
       "   'Miscut',\n",
       "   'Miscut_Orientation',\n",
       "   'Substrate',\n",
       "   'Film',\n",
       "   'Film_Thickness'],\n",
       "  'sub_sections': {}},\n",
       " 'Other_Material': {'quantities': [], 'sub_sections': {}}}"
      ]
     },
     "execution_count": 2,
     "metadata": {},
     "output_type": "execute_result"
    }
   ],
   "source": [
    "sections=read_schema(\"../Schemas/Samples.archive.yaml\")\n",
    "sections"
   ]
  },
  {
   "cell_type": "code",
   "execution_count": 4,
   "id": "bbd34c9c",
   "metadata": {},
   "outputs": [
    {
     "name": "stdout",
     "output_type": "stream",
     "text": [
      "data:\n",
      "  m_def: ../upload/raw/Schemas/Samples.archive.yaml#Single_Crystal\n",
      "  Growth_Method: Ammonothermal Growth\n",
      "  grown_at: Unipress (Poland)\n",
      "  elemental_composition: [{\"element\":\"Ga\",\"atomic_fraction\":1},{\"element\":\"N\",\"atomic_fraction\":1}]\n",
      "\n"
     ]
    }
   ],
   "source": [
    "name=\"Ammono_GaN\"\n",
    "\n",
    "yaml_text=\"\"\n",
    "yt=yaml_text\n",
    "yt += \"data:\\n\"\n",
    "yt += 2*\" \"+\"m_def: \" + \"../upload/raw/Schemas/Samples.archive.yaml#Single_Crystal\"+\"\\n\"\n",
    "yt += 2*\" \"+\"Growth_Method: \" + \"Ammonothermal Growth\"+\"\\n\"\n",
    "yt += 2*\" \"+\"grown_at: \" + \"Unipress (Poland)\"+\"\\n\"\n",
    "yt += 2*\" \"+\"elemental_composition: \" + '[{\"element\":\"Ga\",\"atomic_fraction\":1},{\"element\":\"N\",\"atomic_fraction\":1}]'+\"\\n\"\n",
    "\n",
    "print(yt)"
   ]
  },
  {
   "cell_type": "code",
   "execution_count": 5,
   "id": "52f5e36c",
   "metadata": {},
   "outputs": [],
   "source": [
    "save_sample(name,yt)"
   ]
  },
  {
   "cell_type": "code",
   "execution_count": null,
   "id": "c35ad91a",
   "metadata": {},
   "outputs": [],
   "source": []
  }
 ],
 "metadata": {
  "kernelspec": {
   "display_name": "Python 3 (ipykernel)",
   "language": "python",
   "name": "python3"
  },
  "language_info": {
   "codemirror_mode": {
    "name": "ipython",
    "version": 3
   },
   "file_extension": ".py",
   "mimetype": "text/x-python",
   "name": "python",
   "nbconvert_exporter": "python",
   "pygments_lexer": "ipython3",
   "version": "3.9.12"
  }
 },
 "nbformat": 4,
 "nbformat_minor": 5
}
