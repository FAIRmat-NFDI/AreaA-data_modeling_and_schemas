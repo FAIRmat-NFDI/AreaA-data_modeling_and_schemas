{
 "cells": [
  {
   "cell_type": "code",
   "execution_count": 19,
   "id": "de32e8fd-e96a-4610-9af1-a16505f9c4f1",
   "metadata": {
    "tags": []
   },
   "outputs": [
    {
     "name": "stdin",
     "output_type": "stream",
     "text": [
      " ········\n"
     ]
    }
   ],
   "source": [
    "import getpass\n",
    "import yaml\n",
    "import json\n",
    "import pandas as pd\n",
    "import jmespath\n",
    "import plotly.express as px\n",
    "import requests\n",
    "import nest_asyncio\n",
    "nest_asyncio.apply()\n",
    "password = getpass.getpass()"
   ]
  },
  {
   "cell_type": "code",
   "execution_count": 20,
   "id": "7c6777dc-905c-44fc-9925-c2cec90307d3",
   "metadata": {
    "tags": []
   },
   "outputs": [],
   "source": [
    "username = \"brueckner\"\n",
    "#username = \"aalbino\"\n",
    "response = requests.get(\n",
    "    \"http://nomad-test.support.ikz-berlin.de/nomad-oasis/api/v1/auth/token?username={}&password={}\".format(username, password))\n",
    "# 'https://nomad-lab.eu/prod/api/v1/auth/token', params=dict(username='brueckner', password=password))\n",
    "token = response.json()['access_token']\n",
    "base_url = \"http://nomad-test.support.ikz-berlin.de/nomad-oasis/api/v1\""
   ]
  },
  {
   "cell_type": "code",
   "execution_count": 22,
   "id": "3d433a99-e6ca-42d5-a183-9d4228406f35",
   "metadata": {
    "tags": []
   },
   "outputs": [
    {
     "name": "stdout",
     "output_type": "stream",
     "text": [
      "             _                 _        __                                             _                          \n",
      " _   _ _ __ | | ___   __ _  __| |___   / _| ___  _ __    ___ _   _ _ __ _ __ ___ _ __ | |_   _   _ ___  ___ _ __  \n",
      "| | | | '_ \\| |/ _ \\ / _` |/ _` / __| | |_ / _ \\| '__|  / __| | | | '__| '__/ _ \\ '_ \\| __| | | | / __|/ _ \\ '__| \n",
      "| |_| | |_) | | (_) | (_| | (_| \\__ \\ |  _| (_) | |    | (__| |_| | |  | | |  __/ | | | |_  | |_| \\__ \\  __/ |    \n",
      " \\__,_| .__/|_|\\___/ \\__,_|\\__,_|___/ |_|  \\___/|_|     \\___|\\__,_|_|  |_|  \\___|_| |_|\\__|  \\__,_|___/\\___|_|    \n",
      "      |_|                                                                                                         \n",
      "|    upload name:                             SIMS data testing; upload ID:  qwcKuoD3T2CccO91CvyGkQ \n",
      "|    upload name:               Hall Plug and cstom schema test; upload ID:  luGM7CDdRrWiluGp34FVnQ \n",
      "|    upload name:                                MOVPE CNR test; upload ID:  J7Yoq2m0RI-VTg9TpKMdfQ \n",
      "|    upload name:                                      PLD Test; upload ID:  D_C3B1KmQCSRl-C3IVR9bg \n",
      "|    upload name:                        new plugin test laytec; upload ID:  pNTLh5rQQPKT2tyzBGa84w \n",
      "|    upload name:                                    epitt test; upload ID:  ZAeuePnrRoOhrLQf_XXW0A \n",
      "\n",
      "Please copy-paste the upload id of your interest.\n",
      "Select upload ID:\n"
     ]
    }
   ],
   "source": [
    "query = {\n",
    "        'required': {\n",
    "            'metadata': '*', }\n",
    "    }\n",
    "response = requests.get(\n",
    "    f'{base_url}/uploads',\n",
    "    headers={'Authorization': f'Bearer {token}'}, json=query)\n",
    "my_response = response.json()\n",
    "\n",
    "print(\"             _                 _        __                                             _                          \")\n",
    "print(\" _   _ _ __ | | ___   __ _  __| |___   / _| ___  _ __    ___ _   _ _ __ _ __ ___ _ __ | |_   _   _ ___  ___ _ __  \")\n",
    "print(\"| | | | '_ \\| |/ _ \\ / _` |/ _` / __| | |_ / _ \\| '__|  / __| | | | '__| '__/ _ \\ '_ \\| __| | | | / __|/ _ \\ '__| \")\n",
    "print(\"| |_| | |_) | | (_) | (_| | (_| \\__ \\ |  _| (_) | |    | (__| |_| | |  | | |  __/ | | | |_  | |_| \\__ \\  __/ |    \")\n",
    "print(\" \\__,_| .__/|_|\\___/ \\__,_|\\__,_|___/ |_|  \\___/|_|     \\___|\\__,_|_|  |_|  \\___|_| |_|\\__|  \\__,_|___/\\___|_|    \")\n",
    "print(\"      |_|                                                                                                         \")\n",
    "uploads_bundle = []\n",
    "for i in my_response['data']:\n",
    "    uploads_bundle.append(i['upload_id'])\n",
    "    print(f\"|    upload name: {i['upload_name']:>45}; upload ID:  {i['upload_id']} \")\n",
    "\n",
    "print(\"\\nPlease copy-paste the upload id of your interest.\")\n",
    "print(\"Select upload ID:\")\n"
   ]
  },
  {
   "cell_type": "code",
   "execution_count": 23,
   "id": "869c39b0-747d-4514-80c1-4f789994781c",
   "metadata": {
    "tags": []
   },
   "outputs": [
    {
     "name": "stdout",
     "output_type": "stream",
     "text": [
      "Select upload ID:\n",
      "          _           _           _               _                 _                  _            _       _         \n",
      " ___  ___| | ___  ___| |_ ___  __| |  _   _ _ __ | | ___   __ _  __| |  _ __ ___   ___| |_ __ _  __| | __ _| |_ __ _  \n",
      "/ __|/ _ \\ |/ _ \\/ __| __/ _ \\/ _` | | | | | '_ \\| |/ _ \\ / _` |/ _` | | '_ ` _ \\ / _ \\ __/ _` |/ _` |/ _` | __/ _` | \n",
      "\\__ \\  __/ |  __/ (__| ||  __/ (_| | | |_| | |_) | | (_) | (_| | (_| | | | | | | |  __/ || (_| | (_| | (_| | || (_| | \n",
      "|___/\\___|_|\\___|\\___|\\__\\___|\\__,_|  \\__,_| .__/|_|\\___/ \\__,_|\\__,_| |_| |_| |_|\\___|\\__\\__,_|\\__,_|\\__,_|\\__\\__,_| \n",
      "                                           |_|                                                                        \n",
      "    upload name:                               epitt test         upload ID:    ZAeuePnrRoOhrLQf_XXW0A \n",
      "\n",
      "|    process_running: False\n",
      "|    current_process: put_file_and_process_local\n",
      "|    process_status: SUCCESS\n",
      "|    last_status_message: Process put_file_and_process_local completed successfully\n",
      "|    errors: []\n",
      "|    warnings: []\n",
      "|    complete_time: 2023-07-20T10:16:48.888000\n",
      "|    upload_id: ZAeuePnrRoOhrLQf_XXW0A\n",
      "|    upload_name: epitt test\n",
      "|    upload_create_time: 2023-07-20T10:15:05.149000\n",
      "|    main_author: 589daf8d-5e19-416e-ae4a-81818ba6be1b\n",
      "|    coauthors: []\n",
      "|    reviewers: []\n",
      "|    viewers: ['589daf8d-5e19-416e-ae4a-81818ba6be1b']\n",
      "|    writers: ['589daf8d-5e19-416e-ae4a-81818ba6be1b']\n",
      "|    published: False\n",
      "|    published_to: []\n",
      "|    with_embargo: False\n",
      "|    embargo_length: 0\n",
      "|    license: CC BY 4.0\n",
      "|    entries: 1\n",
      "|    upload_files_server_path: /home/brueckner/nomad/nomad-oasis/.volumes/fs/staging/ZA/ZAeuePnrRoOhrLQf_XXW0A\n",
      "            _        _             _                                        _                 _                 _  \n",
      "  ___ _ __ | |_ _ __(_) ___  ___  (_)_ __     ___ _   _ _ __ _ __ ___ _ __ | |_   _   _ _ __ | | ___   __ _  __| | \n",
      " / _ \\ '_ \\| __| '__| |/ _ \\/ __| | | '_ \\   / __| | | | '__| '__/ _ \\ '_ \\| __| | | | | '_ \\| |/ _ \\ / _` |/ _` | \n",
      "|  __/ | | | |_| |  | |  __/\\__ \\ | | | | | | (__| |_| | |  | | |  __/ | | | |_  | |_| | |_) | | (_) | (_| | (_| | \n",
      " \\___|_| |_|\\__|_|  |_|\\___||___/ |_|_| |_|  \\___|\\__,_|_|  |_|  \\___|_| |_|\\__|  \\__,_| .__/|_|\\___/ \\__,_|\\__,_| \n",
      "                                                                                       |_|                         \n",
      "|    name: 200827_158_TEOS_20_AlGa510mm90_Ring TT1 1_Al Zone 1 (Center)_1; type:    LayTec_EpiTT_Measurement; ID:  iuGkNnfCZUQOm7UipFKLtqOnzvLw \n"
     ]
    }
   ],
   "source": [
    "print(\"Select upload ID:\")\n",
    "#uploadid = input()\n",
    "uploadid = \"ZAeuePnrRoOhrLQf_XXW0A\"\n",
    "uploadid = uploadid.strip()\n",
    "assert uploadid in uploads_bundle, \"The upload id you provided is not avail in your uploads, choose it from the displayed list\"\n",
    "\n",
    "query = {\n",
    "        'required': {\n",
    "            'metadata': '*', }\n",
    "    }\n",
    "response = requests.get(\n",
    "    f'{base_url}/uploads/{uploadid}/entries',\n",
    "    headers={'Authorization': f'Bearer {token}'}, json=query)\n",
    "my_response = response.json()\n",
    "print(\"          _           _           _               _                 _                  _            _       _         \")\n",
    "print(\" ___  ___| | ___  ___| |_ ___  __| |  _   _ _ __ | | ___   __ _  __| |  _ __ ___   ___| |_ __ _  __| | __ _| |_ __ _  \")\n",
    "print(\"/ __|/ _ \\ |/ _ \\/ __| __/ _ \\/ _` | | | | | '_ \\| |/ _ \\ / _` |/ _` | | '_ ` _ \\ / _ \\ __/ _` |/ _` |/ _` | __/ _` | \")\n",
    "print(\"\\__ \\  __/ |  __/ (__| ||  __/ (_| | | |_| | |_) | | (_) | (_| | (_| | | | | | | |  __/ || (_| | (_| | (_| | || (_| | \")\n",
    "print(\"|___/\\___|_|\\___|\\___|\\__\\___|\\__,_|  \\__,_| .__/|_|\\___/ \\__,_|\\__,_| |_| |_| |_|\\___|\\__\\__,_|\\__,_|\\__,_|\\__\\__,_| \")\n",
    "print(\"                                           |_|                                                                        \")\n",
    "\n",
    "print(f\"    upload name: {my_response['upload']['upload_name']:>40}         upload ID:    {uploadid} \\n\")\n",
    "\n",
    "for i in my_response[\"upload\"].items():\n",
    "    print(f\"|    {i[0]}: {i[1]}\")\n",
    "\n",
    "my_data = response.json()[\"data\"] #[0] # [0][\"entry_id\"]\n",
    "\n",
    "print(\"            _        _             _                                        _                 _                 _  \")\n",
    "print(\"  ___ _ __ | |_ _ __(_) ___  ___  (_)_ __     ___ _   _ _ __ _ __ ___ _ __ | |_   _   _ _ __ | | ___   __ _  __| | \")\n",
    "print(\" / _ \\ '_ \\| __| '__| |/ _ \\/ __| | | '_ \\   / __| | | | '__| '__/ _ \\ '_ \\| __| | | | | '_ \\| |/ _ \\ / _` |/ _` | \")\n",
    "print(\"|  __/ | | | |_| |  | |  __/\\__ \\ | | | | | | (__| |_| | |  | | |  __/ | | | |_  | |_| | |_) | | (_) | (_| | (_| | \")\n",
    "print(\" \\___|_| |_|\\__|_|  |_|\\___||___/ |_|_| |_|  \\___|\\__,_|_|  |_|  \\___|_| |_|\\__|  \\__,_| .__/|_|\\___/ \\__,_|\\__,_| \")\n",
    "print(\"                                                                                       |_|                         \")\n",
    "entries_bundle = []\n",
    "for i in my_data:\n",
    "    entries_bundle.append(i['entry_id'])\n",
    "    print(f\"|    name: {i['entry_metadata']['entry_name']:>40}; type:    {i['entry_metadata']['entry_type']:>20}; ID:  {i['entry_id']} \")\n",
    "\n",
    "\n"
   ]
  },
  {
   "cell_type": "code",
   "execution_count": 24,
   "id": "a2ae5578-47ac-4ff4-a9f6-7e417a877b3c",
   "metadata": {
    "tags": []
   },
   "outputs": [
    {
     "name": "stdout",
     "output_type": "stream",
     "text": [
      "          _           _           _              _               \n",
      " ___  ___| | ___  ___| |_ ___  __| |   ___ _ __ | |_ _ __ _   _  \n",
      "/ __|/ _ \\ |/ _ \\/ __| __/ _ \\/ _` |  / _ \\ '_ \\| __| '__| | | | \n",
      "\\__ \\  __/ |  __/ (__| ||  __/ (_| | |  __/ | | | |_| |  | |_| | \n",
      "|___/\\___|_|\\___|\\___|\\__\\___|\\__,_|  \\___|_| |_|\\__|_|   \\__, | \n",
      "                                                          |___/  \n",
      "Please copy-paste the entry id corresponding to the MOVPE EXPERIMENT entry.\n",
      "Select entry ID:\n"
     ]
    },
    {
     "ename": "KeyError",
     "evalue": "'entry_references'",
     "output_type": "error",
     "traceback": [
      "\u001b[0;31m---------------------------------------------------------------------------\u001b[0m",
      "\u001b[0;31mKeyError\u001b[0m                                  Traceback (most recent call last)",
      "Cell \u001b[0;32mIn[24], line 23\u001b[0m\n\u001b[1;32m     18\u001b[0m response \u001b[38;5;241m=\u001b[39m requests\u001b[38;5;241m.\u001b[39mget(\n\u001b[1;32m     19\u001b[0m     \u001b[38;5;124mf\u001b[39m\u001b[38;5;124m'\u001b[39m\u001b[38;5;132;01m{\u001b[39;00mbase_url\u001b[38;5;132;01m}\u001b[39;00m\u001b[38;5;124m/uploads/\u001b[39m\u001b[38;5;132;01m{\u001b[39;00muploadid\u001b[38;5;132;01m}\u001b[39;00m\u001b[38;5;124m/entries/\u001b[39m\u001b[38;5;132;01m{\u001b[39;00mentryid\u001b[38;5;132;01m}\u001b[39;00m\u001b[38;5;124m'\u001b[39m,\n\u001b[1;32m     20\u001b[0m     headers\u001b[38;5;241m=\u001b[39m{\u001b[38;5;124m'\u001b[39m\u001b[38;5;124mAuthorization\u001b[39m\u001b[38;5;124m'\u001b[39m: \u001b[38;5;124mf\u001b[39m\u001b[38;5;124m'\u001b[39m\u001b[38;5;124mBearer \u001b[39m\u001b[38;5;132;01m{\u001b[39;00mtoken\u001b[38;5;132;01m}\u001b[39;00m\u001b[38;5;124m'\u001b[39m}, json\u001b[38;5;241m=\u001b[39mquery)\n\u001b[1;32m     21\u001b[0m my_entry \u001b[38;5;241m=\u001b[39m response\u001b[38;5;241m.\u001b[39mjson()\n\u001b[0;32m---> 23\u001b[0m \u001b[38;5;28;01mfor\u001b[39;00m i \u001b[38;5;129;01min\u001b[39;00m \u001b[43mmy_entry\u001b[49m\u001b[43m[\u001b[49m\u001b[38;5;124;43m'\u001b[39;49m\u001b[38;5;124;43mdata\u001b[39;49m\u001b[38;5;124;43m'\u001b[39;49m\u001b[43m]\u001b[49m\u001b[43m[\u001b[49m\u001b[38;5;124;43m'\u001b[39;49m\u001b[38;5;124;43mentry_metadata\u001b[39;49m\u001b[38;5;124;43m'\u001b[39;49m\u001b[43m]\u001b[49m\u001b[43m[\u001b[49m\u001b[38;5;124;43m'\u001b[39;49m\u001b[38;5;124;43mentry_references\u001b[39;49m\u001b[38;5;124;43m'\u001b[39;49m\u001b[43m]\u001b[49m:\n\u001b[1;32m     24\u001b[0m     \u001b[38;5;28mprint\u001b[39m(\u001b[38;5;124m'\u001b[39m\u001b[38;5;124mThis is a referenced entry:\u001b[39m\u001b[38;5;124m'\u001b[39m)\n\u001b[1;32m     25\u001b[0m     \u001b[38;5;28mprint\u001b[39m(i)\n",
      "\u001b[0;31mKeyError\u001b[0m: 'entry_references'"
     ]
    }
   ],
   "source": [
    "print(\"          _           _           _              _               \")\n",
    "print(\" ___  ___| | ___  ___| |_ ___  __| |   ___ _ __ | |_ _ __ _   _  \")\n",
    "print(\"/ __|/ _ \\ |/ _ \\/ __| __/ _ \\/ _` |  / _ \\ '_ \\| __| '__| | | | \")\n",
    "print(\"\\__ \\  __/ |  __/ (__| ||  __/ (_| | |  __/ | | | |_| |  | |_| | \")\n",
    "print(\"|___/\\___|_|\\___|\\___|\\__\\___|\\__,_|  \\___|_| |_|\\__|_|   \\__, | \")\n",
    "print(\"                                                          |___/  \")  \n",
    "print(\"Please copy-paste the entry id corresponding to the MOVPE EXPERIMENT entry.\")\n",
    "print(\"Select entry ID:\")\n",
    "#entryid = input()\n",
    "entryid = 'iuGkNnfCZUQOm7UipFKLtqOnzvLw'\n",
    "entryid = entryid.strip()\n",
    "assert entryid.strip() in entries_bundle, \"The entry id you provided is not avail in your entries, choose it from the displayed list\"\n",
    "\n",
    "query = {\n",
    "        'required': {\n",
    "            'metadata': '*', }\n",
    "    }\n",
    "response = requests.get(\n",
    "    f'{base_url}/uploads/{uploadid}/entries/{entryid}',\n",
    "    headers={'Authorization': f'Bearer {token}'}, json=query)\n",
    "my_entry = response.json()\n",
    "\n",
    "for i in my_entry['data']['entry_metadata']['entry_references']:\n",
    "    print('This is a referenced entry:')\n",
    "    print(i)\n",
    "\n"
   ]
  },
  {
   "cell_type": "code",
   "execution_count": 26,
   "id": "dc378c59-830d-4cb2-8163-969f07ef5fcd",
   "metadata": {
    "tags": []
   },
   "outputs": [
    {
     "data": {
      "text/plain": [
       "{'process_running': False,\n",
       " 'current_process': 'process_entry_local',\n",
       " 'process_status': 'SUCCESS',\n",
       " 'last_status_message': 'Process process_entry_local completed successfully',\n",
       " 'errors': [],\n",
       " 'warnings': [],\n",
       " 'complete_time': '2023-07-20T10:16:48.878000',\n",
       " 'entry_id': 'iuGkNnfCZUQOm7UipFKLtqOnzvLw',\n",
       " 'entry_create_time': '2023-07-20T10:15:37.224000',\n",
       " 'mainfile': 'epittt2.archive.json',\n",
       " 'upload_id': 'ZAeuePnrRoOhrLQf_XXW0A',\n",
       " 'parser_name': 'parsers/archive',\n",
       " 'entry_metadata': {'upload_id': 'ZAeuePnrRoOhrLQf_XXW0A',\n",
       "  'references': [],\n",
       "  'origin': 'Sebastian Brückner',\n",
       "  'quantities': ['',\n",
       "   'data',\n",
       "   'data.Reflectance_Wavelength',\n",
       "   'data.Reflectance_Wavelength.intensity',\n",
       "   'data.Reflectance_Wavelength.wavelength',\n",
       "   'data.Reflectance_Wavelength.wavelength_name',\n",
       "   'data.data_file',\n",
       "   'data.datetime',\n",
       "   'data.lab_id',\n",
       "   'data.module_name',\n",
       "   'data.name',\n",
       "   'data.process_time',\n",
       "   'data.pyrometer_temperature',\n",
       "   'data.run_ID',\n",
       "   'data.runtype_ID',\n",
       "   'data.runtype_name',\n",
       "   'data.wafer',\n",
       "   'data.wafer_label',\n",
       "   'data.wafer_zone',\n",
       "   'metadata',\n",
       "   'metadata.coauthors',\n",
       "   'metadata.datasets',\n",
       "   'metadata.embargo_length',\n",
       "   'metadata.entry_coauthors',\n",
       "   'metadata.entry_create_time',\n",
       "   'metadata.entry_hash',\n",
       "   'metadata.entry_id',\n",
       "   'metadata.entry_name',\n",
       "   'metadata.entry_timestamp',\n",
       "   'metadata.entry_timestamp.timestamp',\n",
       "   'metadata.entry_timestamp.token',\n",
       "   'metadata.entry_timestamp.token_seed',\n",
       "   'metadata.entry_timestamp.tsa_server',\n",
       "   'metadata.entry_type',\n",
       "   'metadata.files',\n",
       "   'metadata.last_processing_time',\n",
       "   'metadata.license',\n",
       "   'metadata.main_author',\n",
       "   'metadata.mainfile',\n",
       "   'metadata.nomad_commit',\n",
       "   'metadata.nomad_version',\n",
       "   'metadata.parser_name',\n",
       "   'metadata.processed',\n",
       "   'metadata.processing_errors',\n",
       "   'metadata.published',\n",
       "   'metadata.quantities',\n",
       "   'metadata.references',\n",
       "   'metadata.reviewers',\n",
       "   'metadata.section_defs',\n",
       "   'metadata.section_defs.definition_id',\n",
       "   'metadata.section_defs.definition_qualified_name',\n",
       "   'metadata.section_defs.used_directly',\n",
       "   'metadata.sections',\n",
       "   'metadata.upload_create_time',\n",
       "   'metadata.upload_id',\n",
       "   'metadata.upload_name',\n",
       "   'metadata.with_embargo',\n",
       "   'results',\n",
       "   'results.eln',\n",
       "   'results.eln.lab_ids',\n",
       "   'results.eln.methods',\n",
       "   'results.eln.names',\n",
       "   'results.eln.sections',\n",
       "   'results.properties'],\n",
       "  'datasets': [],\n",
       "  'n_quantities': 65,\n",
       "  'nomad_version': '1.2.0rc1.dev124+gaa26e28b7',\n",
       "  'upload_create_time': '2023-07-20T10:15:05.149000+00:00',\n",
       "  'nomad_commit': '',\n",
       "  'section_defs': [{'used_directly': True,\n",
       "    'definition_id': '693dba3c1904c8002bc6b0cda76b67c6839c0911',\n",
       "    'definition_qualified_name': 'lay_tec_epi_tt_schema.schema.LayTecEpiTT'},\n",
       "   {'used_directly': True,\n",
       "    'definition_id': '6052693470a884a667675bb3367013737abf07bc',\n",
       "    'definition_qualified_name': 'lay_tec_epi_tt_schema.schema.LayTec_EpiTT_Measurement'},\n",
       "   {'used_directly': True,\n",
       "    'definition_id': '70401a7a1405dbdac1f67201aa1afb6b10ad2329',\n",
       "    'definition_qualified_name': 'lay_tec_epi_tt_schema.schema.ReflectanceWavelengthTransient'},\n",
       "   {'used_directly': True,\n",
       "    'definition_id': '7047cbff9980abff17cce4b1b6b0d1c783505b7f',\n",
       "    'definition_qualified_name': 'nomad.datamodel.data.ArchiveSection'},\n",
       "   {'used_directly': True,\n",
       "    'definition_id': '538f52fd8d52b29372066f878319c6aeb03b74d2',\n",
       "    'definition_qualified_name': 'nomad.datamodel.data.EntryData'},\n",
       "   {'used_directly': True,\n",
       "    'definition_id': 'b7bb6a2f8011cac59fb70289f18510a901544d0c',\n",
       "    'definition_qualified_name': 'nomad.datamodel.datamodel.EntryArchive'},\n",
       "   {'used_directly': True,\n",
       "    'definition_id': 'f0581d7d21c72a241c4a770488125b5ddcf539d8',\n",
       "    'definition_qualified_name': 'nomad.datamodel.datamodel.EntryMetadata'},\n",
       "   {'used_directly': True,\n",
       "    'definition_id': '265ae33dbc9ace82b50260c1050d30c59ef9cb3c',\n",
       "    'definition_qualified_name': 'nomad.datamodel.datamodel.RFC3161Timestamp'},\n",
       "   {'used_directly': False,\n",
       "    'definition_id': '6bf6c4393fbcb84dd5c891d76579700540a00eea',\n",
       "    'definition_qualified_name': 'nomad.datamodel.metainfo.eln.Activity'},\n",
       "   {'used_directly': False,\n",
       "    'definition_id': 'f05adb2ccbe04cbeced6213c4b6bd8f78e3d4ead',\n",
       "    'definition_qualified_name': 'nomad.datamodel.metainfo.eln.ElnBaseSection'},\n",
       "   {'used_directly': False,\n",
       "    'definition_id': 'a4f4a3dbbbc07cff532c51b5b87ea71a524b95dc',\n",
       "    'definition_qualified_name': 'nomad.datamodel.metainfo.eln.Measurement'},\n",
       "   {'used_directly': True,\n",
       "    'definition_id': 'eeed330bd18d40f3a2a00cc35ba6f58808d0c543',\n",
       "    'definition_qualified_name': 'nomad.datamodel.results.ELN'},\n",
       "   {'used_directly': True,\n",
       "    'definition_id': 'a933818e42f01af7a06a093a15a2caef6f59e0e0',\n",
       "    'definition_qualified_name': 'nomad.datamodel.results.Properties'},\n",
       "   {'used_directly': True,\n",
       "    'definition_id': '9398a6b89cbd8079dc3c3416c13af818a110f216',\n",
       "    'definition_qualified_name': 'nomad.datamodel.results.Results'}],\n",
       "  'processing_errors': [],\n",
       "  'results': {'eln': {'names': ['200827_158_TEOS_20_AlGa510mm90_Ring TT1 1_Al Zone 1 (Center)_1'],\n",
       "    'methods': ['LayTec_EpiTT'],\n",
       "    'sections': ['LayTec_EpiTT_Measurement'],\n",
       "    'lab_ids': ['200827_158_TEOS_20_AlGa510mm90_Ring TT1 1_Al Zone 1 (Center)_1']},\n",
       "   'properties': {'available_properties': []}},\n",
       "  'entry_name': '200827_158_TEOS_20_AlGa510mm90_Ring TT1 1_Al Zone 1 (Center)_1',\n",
       "  'last_processing_time': '2023-07-20T10:16:48.195876+00:00',\n",
       "  'parser_name': 'parsers/archive',\n",
       "  'searchable_quantities': [{'text_value': '200827_158_TEOS_20_AlGa510mm90_Ring TT1 1_Al Zone 1 (Center)_1',\n",
       "    'path': 'data.name',\n",
       "    'quantity_name': 'name',\n",
       "    'section_definition': 'nomad.datamodel.metainfo.eln.ElnBaseSection'},\n",
       "   {'path': 'data.datetime',\n",
       "    'date_value': '2020-08-27T11:11:30+00:00',\n",
       "    'quantity_name': 'datetime',\n",
       "    'section_definition': 'nomad.datamodel.metainfo.eln.Activity'},\n",
       "   {'text_value': '200827_158_TEOS_20_AlGa510mm90_Ring TT1 1_Al Zone 1 (Center)_1',\n",
       "    'path': 'data.lab_id',\n",
       "    'quantity_name': 'lab_id',\n",
       "    'section_definition': 'nomad.datamodel.metainfo.eln.ElnBaseSection'},\n",
       "   {'text_value': 'Ring TT1 1',\n",
       "    'path': 'data.module_name',\n",
       "    'quantity_name': 'module_name',\n",
       "    'section_definition': 'lay_tec_epi_tt_schema.schema.LayTecEpiTT'},\n",
       "   {'text_value': 'Al Zone 1 (Center)',\n",
       "    'path': 'data.wafer_label',\n",
       "    'quantity_name': 'wafer_label',\n",
       "    'section_definition': 'lay_tec_epi_tt_schema.schema.LayTecEpiTT'},\n",
       "   {'text_value': 'Center',\n",
       "    'path': 'data.wafer_zone',\n",
       "    'quantity_name': 'wafer_zone',\n",
       "    'section_definition': 'lay_tec_epi_tt_schema.schema.LayTecEpiTT'},\n",
       "   {'text_value': '1',\n",
       "    'path': 'data.wafer',\n",
       "    'quantity_name': 'wafer',\n",
       "    'section_definition': 'lay_tec_epi_tt_schema.schema.LayTecEpiTT'},\n",
       "   {'text_value': '200827_158_TEOS',\n",
       "    'path': 'data.run_ID',\n",
       "    'quantity_name': 'run_ID',\n",
       "    'section_definition': 'lay_tec_epi_tt_schema.schema.LayTecEpiTT'},\n",
       "   {'text_value': '20',\n",
       "    'path': 'data.runtype_ID',\n",
       "    'quantity_name': 'runtype_ID',\n",
       "    'section_definition': 'lay_tec_epi_tt_schema.schema.LayTecEpiTT'},\n",
       "   {'text_value': 'AlGa510mm90',\n",
       "    'path': 'data.runtype_name',\n",
       "    'quantity_name': 'runtype_name',\n",
       "    'section_definition': 'lay_tec_epi_tt_schema.schema.LayTecEpiTT'},\n",
       "   {'text_value': '633.14',\n",
       "    'path': 'data.Reflectance_Wavelength.wavelength',\n",
       "    'quantity_name': 'wavelength',\n",
       "    'section_definition': 'lay_tec_epi_tt_schema.schema.ReflectanceWavelengthTransient'},\n",
       "   {'text_value': 'REFLEC_WAVELENGTH',\n",
       "    'path': 'data.Reflectance_Wavelength.wavelength_name',\n",
       "    'quantity_name': 'wavelength_name',\n",
       "    'section_definition': 'lay_tec_epi_tt_schema.schema.ReflectanceWavelengthTransient'},\n",
       "   {'text_value': '951.29',\n",
       "    'path': 'data.Reflectance_Wavelength.wavelength',\n",
       "    'quantity_name': 'wavelength',\n",
       "    'section_definition': 'lay_tec_epi_tt_schema.schema.ReflectanceWavelengthTransient'},\n",
       "   {'text_value': 'PYRO_WAVELENGTH',\n",
       "    'path': 'data.Reflectance_Wavelength.wavelength_name',\n",
       "    'quantity_name': 'wavelength_name',\n",
       "    'section_definition': 'lay_tec_epi_tt_schema.schema.ReflectanceWavelengthTransient'},\n",
       "   {'text_value': '405.14',\n",
       "    'path': 'data.Reflectance_Wavelength.wavelength',\n",
       "    'quantity_name': 'wavelength',\n",
       "    'section_definition': 'lay_tec_epi_tt_schema.schema.ReflectanceWavelengthTransient'},\n",
       "   {'text_value': 'WHITE_WAVELENGTH',\n",
       "    'path': 'data.Reflectance_Wavelength.wavelength_name',\n",
       "    'quantity_name': 'wavelength_name',\n",
       "    'section_definition': 'lay_tec_epi_tt_schema.schema.ReflectanceWavelengthTransient'},\n",
       "   {'text_value': '200827_158_TEOS_20_AlGa510mm90_Ring TT1_Head1_Al Zone 1 (Center)_001.dat',\n",
       "    'path': 'data.data_file',\n",
       "    'quantity_name': 'data_file',\n",
       "    'section_definition': 'lay_tec_epi_tt_schema.schema.LayTec_EpiTT_Measurement'}],\n",
       "  'calc_id': 'iuGkNnfCZUQOm7UipFKLtqOnzvLw',\n",
       "  'published': False,\n",
       "  'writers': [{'user_id': '589daf8d-5e19-416e-ae4a-81818ba6be1b',\n",
       "    'name': 'Sebastian Brückner'}],\n",
       "  'sections': ['lay_tec_epi_tt_schema.schema.LayTec_EpiTT_Measurement',\n",
       "   'lay_tec_epi_tt_schema.schema.ReflectanceWavelengthTransient',\n",
       "   'nomad.datamodel.datamodel.EntryArchive',\n",
       "   'nomad.datamodel.datamodel.EntryMetadata',\n",
       "   'nomad.datamodel.datamodel.RFC3161Timestamp',\n",
       "   'nomad.datamodel.results.ELN',\n",
       "   'nomad.datamodel.results.Properties',\n",
       "   'nomad.datamodel.results.Results'],\n",
       "  'processed': True,\n",
       "  'mainfile': 'epittt2.archive.json',\n",
       "  'main_author': {'user_id': '589daf8d-5e19-416e-ae4a-81818ba6be1b',\n",
       "   'name': 'Sebastian Brückner'},\n",
       "  'viewers': [{'user_id': '589daf8d-5e19-416e-ae4a-81818ba6be1b',\n",
       "    'name': 'Sebastian Brückner'}],\n",
       "  'entry_create_time': '2023-07-20T10:15:37.224000+00:00',\n",
       "  'with_embargo': False,\n",
       "  'files': ['epittt2.archive.json',\n",
       "   '200827_158_TEOS_20_AlGa510mm90_Ring TT1_Head1_Al Zone 1 (Center)_001.dat',\n",
       "   '200827_158_TEOS_20_AlGa510mm90_Ring TT1_Head1_Al Zone 1 (Center)_001_short.dat'],\n",
       "  'entry_type': 'LayTec_EpiTT_Measurement',\n",
       "  'entry_id': 'iuGkNnfCZUQOm7UipFKLtqOnzvLw',\n",
       "  'upload_name': 'epitt test',\n",
       "  'authors': [{'user_id': '589daf8d-5e19-416e-ae4a-81818ba6be1b',\n",
       "    'name': 'Sebastian Brückner'}],\n",
       "  'license': 'CC BY 4.0'}}"
      ]
     },
     "execution_count": 26,
     "metadata": {},
     "output_type": "execute_result"
    }
   ],
   "source": [
    "my_entry[\"data\"]"
   ]
  },
  {
   "cell_type": "markdown",
   "id": "6d069b5f-693d-471f-9805-dace0dafeeed",
   "metadata": {},
   "source": [
    " 1. BEGIN\n",
    " 2. PyroTemp\n",
    " 3. DetWhite\n",
    " 4. DetReflec\n",
    " 5. RLo"
   ]
  },
  {
   "cell_type": "code",
   "execution_count": 27,
   "id": "636497aa-1a2c-46e5-8328-ad9d8b572916",
   "metadata": {
    "tags": []
   },
   "outputs": [],
   "source": [
    "import pandas as pd\n",
    "import plotly.express as px\n",
    "import plotly.io as pio\n",
    "pio.renderers.default = \"iframe\"\n",
    "import sklearn\n",
    "import pandas\n",
    "import matplotlib.pyplot as plt\n",
    "import numpy as np\n",
    "\n",
    "filepath='20_158_Ga.xlsx'\n",
    "\n",
    "\n",
    "def load_Data_Ga2(filepath):\n",
    "    \n",
    "    Spectrum_Data_Ga = pandas.read_excel(filepath)\n",
    "\n",
    "    return Spectrum_Data_Ga\n",
    "Start = 640\n",
    "Period = 40000\n",
    "Data_Ga= load_Data_Ga2(filepath) # needs to be replaced with query of data from NOMAD!\n",
    "\n",
    "Data_Ga_slected = Data_Ga[['BEGIN',  'PyroTemp', 'DetWhite', 'DetReflec',  'RLo', ]].loc[(Data_Ga['BEGIN']>Start) & (Data_Ga['BEGIN']<(Start+Period))] \n",
    "window_size =30\n",
    "Data_Ga_slected[\"405nm normalized\"] = Data_Ga_slected[\"DetWhite\"].apply(lambda x: (x / Data_Ga_slected[\"DetWhite\"].values[0]))\n",
    "Data_Ga_slected[\"405nm autocorrelated\"] = Data_Ga_slected[\"DetWhite\"].apply(lambda x: (x / Data_Ga_slected[\"DetWhite\"].values[0])).rolling(30).mean()\n",
    "Data_Ga_slected[\"633nm autocorrelated\"] = Data_Ga_slected[\"DetReflec\"].apply(lambda x: (x / Data_Ga_slected[\"DetReflec\"].values[0])).rolling(30).mean()\n",
    "Data_Ga_slected[\"633nm normalized\"] = Data_Ga_slected[\"DetReflec\"].apply(lambda x: (x / Data_Ga_slected[\"DetReflec\"].values[0]))\n",
    "Data_Ga_slected[\"950nm autocorrelated\"] = Data_Ga_slected[\"RLo\"].apply(lambda x: (x / Data_Ga_slected[\"RLo\"].values[0])).rolling(30).mean()\n",
    "Data_Ga_slected[\"950nm normalized\"] = Data_Ga_slected[\"RLo\"].apply(lambda x: (x / Data_Ga_slected[\"RLo\"].values[0]))\n"
   ]
  },
  {
   "cell_type": "code",
   "execution_count": 28,
   "id": "723f670f-8807-48ab-8a20-1c626239710e",
   "metadata": {
    "tags": []
   },
   "outputs": [
    {
     "data": {
      "text/html": [
       "<iframe\n",
       "    scrolling=\"no\"\n",
       "    width=\"100%\"\n",
       "    height=\"545px\"\n",
       "    src=\"iframe_figures/figure_28.html\"\n",
       "    frameborder=\"0\"\n",
       "    allowfullscreen\n",
       "></iframe>\n"
      ]
     },
     "metadata": {},
     "output_type": "display_data"
    }
   ],
   "source": [
    "import pandas as pd\n",
    "import plotly.graph_objects as go\n",
    "\n",
    "# Assuming you have the DataFrame named \"Data_Ga_slected\"\n",
    "# Replace this with the actual name of your DataFrame\n",
    "\n",
    "# Create the Plotly figure\n",
    "fig = go.Figure()\n",
    "\n",
    "# Adding each line to the figure\n",
    "\n",
    "fig.add_trace(go.Scatter(x=Data_Ga_slected['BEGIN'], y=Data_Ga_slected['405nm normalized'], mode='lines', name='405nm normalized'))\n",
    "fig.add_trace(go.Scatter(x=Data_Ga_slected['BEGIN'], y=Data_Ga_slected['405nm autocorrelated'], mode='lines', name='405nm autocorrelated'))\n",
    "\n",
    "fig.add_trace(go.Scatter(x=Data_Ga_slected['BEGIN'], y=Data_Ga_slected['633nm normalized'], mode='lines', name='633nm normalized'))\n",
    "fig.add_trace(go.Scatter(x=Data_Ga_slected['BEGIN'], y=Data_Ga_slected['633nm autocorrelated'], mode='lines', name='633nm autocorrelated'))\n",
    "\n",
    "fig.add_trace(go.Scatter(x=Data_Ga_slected['BEGIN'], y=Data_Ga_slected['950nm normalized'], mode='lines', name='950nm normalized'))\n",
    "fig.add_trace(go.Scatter(x=Data_Ga_slected['BEGIN'], y=Data_Ga_slected['950nm autocorrelated'], mode='lines', name='950nm autocorrelated'))\n",
    "\n",
    "# Update layout\n",
    "fig.update_layout(title='epitt Data of Sample XY',\n",
    "                  xaxis_title='Time [s]',\n",
    "                  yaxis_title='normalized intensity')\n",
    "\n",
    "\n",
    "fig.show()\n"
   ]
  },
  {
   "cell_type": "code",
   "execution_count": 29,
   "id": "47a5688b-e759-43be-a0d8-1abcd3132163",
   "metadata": {
    "tags": []
   },
   "outputs": [],
   "source": [
    "x1=2000\n",
    "y1=1\n",
    "x2=2905\n",
    "y2=0.999"
   ]
  },
  {
   "cell_type": "code",
   "execution_count": 30,
   "id": "f8d69f81-d4a1-403e-b4e5-0f9e9bbacc44",
   "metadata": {
    "tags": []
   },
   "outputs": [
    {
     "data": {
      "text/html": [
       "<iframe\n",
       "    scrolling=\"no\"\n",
       "    width=\"100%\"\n",
       "    height=\"545px\"\n",
       "    src=\"iframe_figures/figure_30.html\"\n",
       "    frameborder=\"0\"\n",
       "    allowfullscreen\n",
       "></iframe>\n"
      ]
     },
     "metadata": {},
     "output_type": "display_data"
    }
   ],
   "source": [
    "# Show the plot\n",
    "fig.add_annotation(\n",
    "    go.layout.Annotation(\n",
    "        x=x1,#Data_Ga_slected['BEGIN'].iloc[-1],\n",
    "        y=y1,#Data_Ga_slected['PyroTemp'].iloc[-1],\n",
    "        text=f\"Manually read start of period: {x1, y1}\",\n",
    "        showarrow=True,\n",
    "        arrowhead=1,\n",
    "    )\n",
    ")\n",
    "fig.add_annotation(\n",
    "    go.layout.Annotation(\n",
    "        x=x2,#Data_Ga_slected['BEGIN'].iloc[-1],\n",
    "        y=y2,#Data_Ga_slected['PyroTemp'].iloc[-1],\n",
    "        text=f\"Manually read end of period: {x2, y2}\",\n",
    "        showarrow=True,\n",
    "        arrowhead=1,\n",
    "    )\n",
    ")\n",
    "fig.show()"
   ]
  },
  {
   "cell_type": "code",
   "execution_count": 31,
   "id": "dfde1424-9b5c-4e06-a957-5352d9d7542a",
   "metadata": {
    "tags": []
   },
   "outputs": [],
   "source": [
    "nGa2O3 = 1.89\n",
    "def calculate_growth_rate(wavelength, d):\n",
    "    return (wavelength /(2*nGa2O3*d))"
   ]
  },
  {
   "cell_type": "code",
   "execution_count": 32,
   "id": "78606c56-b141-4367-8fad-4d63cf5ed2bc",
   "metadata": {
    "tags": []
   },
   "outputs": [
    {
     "data": {
      "text/plain": [
       "0.2777046975942004"
      ]
     },
     "execution_count": 32,
     "metadata": {},
     "output_type": "execute_result"
    }
   ],
   "source": [
    "calculate_growth_rate(950,x2-x1)"
   ]
  },
  {
   "cell_type": "code",
   "execution_count": 33,
   "id": "ffa584e8-96f8-4663-9f83-86081c8a1213",
   "metadata": {
    "tags": []
   },
   "outputs": [],
   "source": [
    "T_average = Data_Ga_slected['PyroTemp'].mean()"
   ]
  },
  {
   "cell_type": "code",
   "execution_count": 34,
   "id": "afb99962-8968-406a-9908-218af5dce165",
   "metadata": {
    "tags": []
   },
   "outputs": [
    {
     "data": {
      "text/html": [
       "<iframe\n",
       "    scrolling=\"no\"\n",
       "    width=\"100%\"\n",
       "    height=\"545px\"\n",
       "    src=\"iframe_figures/figure_34.html\"\n",
       "    frameborder=\"0\"\n",
       "    allowfullscreen\n",
       "></iframe>\n"
      ]
     },
     "metadata": {},
     "output_type": "display_data"
    }
   ],
   "source": [
    "fig_temp = go.Figure()\n",
    "\n",
    "# Adding each line to the figure\n",
    "\n",
    "fig_temp.add_trace(go.Scatter(x=Data_Ga_slected['BEGIN'], y=Data_Ga_slected['PyroTemp'], mode='lines', name='405nm normalized'))\n",
    "\n",
    "horizontal_line_value = T_average#100  # Set the y-axis value for the horizontal line\n",
    "fig_temp.update_layout(\n",
    "    shapes=[\n",
    "        dict(\n",
    "            type='line',\n",
    "            x0=Data_Ga_slected['BEGIN'].min(),\n",
    "            x1=Data_Ga_slected['BEGIN'].max(),\n",
    "            y0=horizontal_line_value,\n",
    "            y1=horizontal_line_value,\n",
    "            xref='x',\n",
    "            yref='y',\n",
    "            line=dict(color='green', width=2),\n",
    "        )\n",
    "    ]\n",
    ")\n",
    "\n",
    "# Show the plot\n",
    "fig_temp.show()"
   ]
  }
 ],
 "metadata": {
  "kernelspec": {
   "display_name": "Python 3 (ipykernel)",
   "language": "python",
   "name": "python3"
  },
  "language_info": {
   "codemirror_mode": {
    "name": "ipython",
    "version": 3
   },
   "file_extension": ".py",
   "mimetype": "text/x-python",
   "name": "python",
   "nbconvert_exporter": "python",
   "pygments_lexer": "ipython3",
   "version": "3.10.10"
  }
 },
 "nbformat": 4,
 "nbformat_minor": 5
}
